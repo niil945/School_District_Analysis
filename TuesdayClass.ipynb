{
 "cells": [
  {
   "cell_type": "code",
   "execution_count": 1,
   "id": "84b5cec0",
   "metadata": {},
   "outputs": [],
   "source": [
    "#Dependencies\n",
    "import pandas as pd"
   ]
  },
  {
   "cell_type": "code",
   "execution_count": 3,
   "id": "bb4a5620",
   "metadata": {},
   "outputs": [
    {
     "data": {
      "text/plain": [
       "0    Uni1\n",
       "1    Uni2\n",
       "2    Uni3\n",
       "dtype: object"
      ]
     },
     "execution_count": 3,
     "metadata": {},
     "output_type": "execute_result"
    }
   ],
   "source": [
    "bootcamp_univ = [\"Uni1\", \"Uni2\", \"Uni3\"]\n",
    "data_series = pd.Series(bootcamp_univ)\n",
    "data_series"
   ]
  },
  {
   "cell_type": "code",
   "execution_count": null,
   "id": "8cfdc9d0",
   "metadata": {},
   "outputs": [],
   "source": [
    "                                                                                                                                                                                          "
   ]
  }
 ],
 "metadata": {
  "kernelspec": {
   "display_name": "PythonData",
   "language": "python",
   "name": "pythondata"
  },
  "language_info": {
   "codemirror_mode": {
    "name": "ipython",
    "version": 3
   },
   "file_extension": ".py",
   "mimetype": "text/x-python",
   "name": "python",
   "nbconvert_exporter": "python",
   "pygments_lexer": "ipython3",
   "version": "3.7.10"
  }
 },
 "nbformat": 4,
 "nbformat_minor": 5
}
